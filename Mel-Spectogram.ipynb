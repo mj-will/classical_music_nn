{
 "cells": [
  {
   "cell_type": "code",
   "execution_count": 1,
   "metadata": {},
   "outputs": [],
   "source": [
    "# imports\n",
    "import os\n",
    "import glob\n",
    "import re\n",
    "import numpy as np\n",
    "import cPickle as pickle\n",
    "from scipy.io import wavfile\n",
    "from scipy.signal import spectrogram,stft\n",
    "import matplotlib.pyplot as plt\n",
    "\n",
    "\n",
    "import librosa\n",
    "import librosa.display"
   ]
  },
  {
   "cell_type": "code",
   "execution_count": 2,
   "metadata": {},
   "outputs": [],
   "source": [
    "class piece:\n",
    "    def __init__(self,filepath, composer, CD):\n",
    "        self.filepath = filepath\n",
    "        self.composer = composer\n",
    "        self.CD = CD"
   ]
  },
  {
   "cell_type": "code",
   "execution_count": 3,
   "metadata": {},
   "outputs": [],
   "source": [
    "def save_spec(S, savename, savepath, filetype='png'):\n",
    "    \"\"\"\n",
    "    Save melspectrogram as an image\n",
    "    \n",
    "    Args:\n",
    "        S (array): melspectrogram already converted to dBs\n",
    "        savename (string): name to for file\n",
    "        savepath (string): path to save to\n",
    "        filetype (string): file type for image\n",
    "    \"\"\"\n",
    "    \n",
    "    fig = plt.figure(frameon=False)\n",
    "    # remove white space\n",
    "    plt.axes([0., 0., 1., 1.], frameon=False, xticks=[], yticks=[])\n",
    "    # plot spectrogram\n",
    "    librosa.display.specshow(S,\n",
    "                         y_axis='mel', fmax=8000,\n",
    "                         x_axis='time')\n",
    "    # save\n",
    "    fig.savefig('{0}/{1}.{2}'.format(savepath, savename, filetype), \n",
    "                bbox_inches=None, pad_inches=0)\n",
    "    plt.close(fig)"
   ]
  },
  {
   "cell_type": "code",
   "execution_count": 4,
   "metadata": {},
   "outputs": [],
   "source": [
    "def prep_melspec(piece, initial_count, dt=30.0):\n",
    "    \"\"\"\n",
    "    Make melscpectogram for a given file\n",
    "    \n",
    "    Args:\n",
    "        filepath (string): path to file\n",
    "        startpoint (int): number of last image for composer\n",
    "        dt (float): length of time segment\n",
    "    \"\"\"\n",
    "    # load file\n",
    "    y, sr = librosa.load('{0}'.format(piece.filepath))\n",
    "    \n",
    "    # compute melspectrogram\n",
    "    S = librosa.feature.melspectrogram(y=y, sr=sr, n_mels=128,\n",
    "                                    fmax=8000)\n",
    "    # conver to db\n",
    "    S = librosa.power_to_db(S, ref=np.max)\n",
    "    \n",
    "    # get time vector\n",
    "    t = librosa.display.__coord_time(S.shape[1])\n",
    "    # length of 1s segment\n",
    "    Lseg = int(1./(t[1]-t[0]))\n",
    "    # number of segments of length dt\n",
    "    Nseg = int(S.shape[1]/(dt*Lseg))\n",
    "    \n",
    "    count = initial_count\n",
    "    \n",
    "    # loop over segements of complete song\n",
    "    for n in xrange(Nseg):\n",
    "        start = int(dt*n*Lseg)\n",
    "        end = int(dt*(n+1.0)*Lseg)\n",
    "        seg = S[:,start:end]\n",
    "\n",
    "        \n",
    "        # save spectrogram\n",
    "        save_spec(seg, savename = '{0}{1}'.format(piece.composer,count),\n",
    "                  savepath='./data/data{0}/{1}/'.format(int(dt), piece.composer) )\n",
    "        # keep track of which file to write\n",
    "        count +=1\n",
    "    \n",
    "    return count"
   ]
  },
  {
   "cell_type": "code",
   "execution_count": 5,
   "metadata": {},
   "outputs": [],
   "source": [
    "def merge_two_dicts(x, y):\n",
    "    \"\"\"Given two dicts, merge them into a new dict as a shallow copy.\"\"\"\n",
    "    z = x.copy()\n",
    "    z.update(y)\n",
    "    return z"
   ]
  },
  {
   "cell_type": "code",
   "execution_count": 17,
   "metadata": {},
   "outputs": [
    {
     "name": "stdout",
     "output_type": "stream",
     "text": [
      "Making melspectrogram for: 01 - Beethoven- Piano Sonata #1 In F Minor, Op. 2-1 - 1. Allegro\n",
      "Making melspectrogram for: 02 - Beethoven- Piano Sonata #1 In F Minor, Op. 2-1 - 2. Adagio\n",
      "Making melspectrogram for: 03 - Beethoven- Piano Sonata #1 In F Minor, Op. 2-1 - 3. Menuetto- Allegretto\n",
      "Making melspectrogram for: 04 - Beethoven- Piano Sonata #1 In F Minor, Op. 2-1 - 4. Prestissimo\n",
      "Making melspectrogram for: 05 - Beethoven- Piano Sonata #2 In A, Op. 2-2 - 1. Allegro Vivace\n",
      "Making melspectrogram for: 06 - Beethoven- Piano Sonata #2 In A, Op. 2-2 - 2. Largo Appassionato\n",
      "Making melspectrogram for: 07 - Beethoven- Piano Sonata #2 In A, Op. 2-2 - 3. Scherzo- Allegretto\n",
      "Making melspectrogram for: 08 - Beethoven- Piano Sonata #2 In A, Op. 2-2 - 4. Rondo- Grazioso\n",
      "Making melspectrogram for: 09 - Beethoven- Piano Sonata #3 In C, Op. 2-3 - 1. Allegro Con Brio\n",
      "Making melspectrogram for: 10 - Beethoven- Piano Sonata #3 In C, Op. 2-3 - 2. Adagio\n",
      "Making melspectrogram for: 11 - Beethoven- Piano Sonata #3 In C, Op. 2-3 - 3. Scherzo- Allegro\n",
      "Making melspectrogram for: 12 - Beethoven- Piano Sonata #3 In C, Op. 2-3 - 4. Allegro Assai\n"
     ]
    }
   ],
   "source": [
    "# path to music\n",
    "musicpath = './data/music/'\n",
    "\n",
    "# composer and CD\n",
    "composer = 'beethoven'\n",
    "CD = 'Beethoven- Piano Sonatas 1,2,3 '\n",
    "\n",
    "# songs\n",
    "songpaths = glob.glob('{0}{1}/{2}/*.flac'.format(musicpath, composer, CD))\n",
    "songnames = [re.split('/|.flac', sp)[-2] for sp in songpaths]\n",
    "\n",
    "# dictionary that will contain songs\n",
    "songdict = {}\n",
    "\n",
    "# length of time segments\n",
    "dt = 30.0\n",
    "\n",
    "# check if there is a pre-existing dictionary\n",
    "if glob.glob('./data/data{0}/{1}/{1}.pkl'.format(int(dt),composer)):\n",
    "    # load existing dict\n",
    "    with open('./data/data{0}/{1}/{1}.pkl'.format(int(dt),composer), 'rb') as f:\n",
    "        old_songdict = pickle.load(f)\n",
    "else:\n",
    "    old_songdict = {}\n",
    "\n",
    "for sp, sn in zip(songpaths, songnames):\n",
    "    # check if song has already been processed\n",
    "    if sn in old_songdict:\n",
    "        # if so, skip\n",
    "        print('Skipping {0}'.format(sn))\n",
    "        pass\n",
    "    else:\n",
    "        # make spectrogram\n",
    "        print('Making melspectrogram for: {0}'.format(sn))\n",
    "        p = piece(sp, composer, CD)\n",
    "        # check where to start saving images\n",
    "        initial_count = len(glob.glob('./data/data{0}/{1}/{1}*.png'.format(int(dt),composer)))\n",
    "        # make melspectrogram and save it\n",
    "        final_count = prep_melspec(p, initial_count, dt)\n",
    "        # save start and end of song\n",
    "        songdict['{0}'.format(sn)] = (initial_count, final_count)\n",
    "\n",
    "# if dicionary already exists\n",
    "if old_songdict:\n",
    "    # merge dicts\n",
    "    new_songdict = merge_two_dicts(songdict, old_songdict)\n",
    "    # save upaded dict\n",
    "    with open('./data/data{0}/{1}/{1}.pkl'.format(int(dt),composer), 'wb') as f:\n",
    "        pickle.dump(new_songdict, f, protocol=pickle.HIGHEST_PROTOCOL)\n",
    "else:\n",
    "    # create file\n",
    "    with open('./data/data{0}/{1}/{1}.pkl'.format(int(dt),composer), 'wb') as f:\n",
    "        pickle.dump(songdict, f, protocol=pickle.HIGHEST_PROTOCOL)"
   ]
  },
  {
   "cell_type": "code",
   "execution_count": 18,
   "metadata": {},
   "outputs": [
    {
     "name": "stdout",
     "output_type": "stream",
     "text": [
      "('06 - Beethoven- Piano Sonata #2 In A, Op. 2-2 - 2. Largo Appassionato', (47, 61))\n",
      "('04 - Beethoven- Piano Sonata #1 In F Minor, Op. 2-1 - 4. Prestissimo', (24, 33))\n",
      "('08 - Beethoven- Piano Sonata #2 In A, Op. 2-2 - 4. Rondo- Grazioso', (67, 79))\n",
      "('01 - Beethoven- Piano Sonata #1 In F Minor, Op. 2-1 - 1. Allegro', (0, 7))\n",
      "('05 - Beethoven- Piano Sonata #2 In A, Op. 2-2 - 1. Allegro Vivace', (33, 47))\n",
      "('07 - Beethoven- Piano Sonata #2 In A, Op. 2-2 - 3. Scherzo- Allegretto', (61, 67))\n",
      "('12 - Beethoven- Piano Sonata #3 In C, Op. 2-3 - 4. Allegro Assai', (122, 132))\n",
      "('11 - Beethoven- Piano Sonata #3 In C, Op. 2-3 - 3. Scherzo- Allegro', (117, 122))\n",
      "('09 - Beethoven- Piano Sonata #3 In C, Op. 2-3 - 1. Allegro Con Brio', (79, 100))\n",
      "('10 - Beethoven- Piano Sonata #3 In C, Op. 2-3 - 2. Adagio', (100, 117))\n",
      "('02 - Beethoven- Piano Sonata #1 In F Minor, Op. 2-1 - 2. Adagio', (7, 17))\n",
      "('03 - Beethoven- Piano Sonata #1 In F Minor, Op. 2-1 - 3. Menuetto- Allegretto', (17, 24))\n"
     ]
    }
   ],
   "source": [
    "# see what have already been processed\n",
    "with open('./data/data{0}/{1}/{1}.pkl'.format(int(dt),composer), 'rb') as f:\n",
    "        current_songdict = pickle.load(f)\n",
    "\n",
    "for k in current_songdict:\n",
    "    print(k, current_songdict[k])"
   ]
  }
 ],
 "metadata": {
  "kernelspec": {
   "display_name": "Python 2",
   "language": "python",
   "name": "python2"
  },
  "language_info": {
   "codemirror_mode": {
    "name": "ipython",
    "version": 2.0
   },
   "file_extension": ".py",
   "mimetype": "text/x-python",
   "name": "python",
   "nbconvert_exporter": "python",
   "pygments_lexer": "ipython2",
   "version": "2.7.12"
  }
 },
 "nbformat": 4,
 "nbformat_minor": 0
}